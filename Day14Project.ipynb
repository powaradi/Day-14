{
  "nbformat": 4,
  "nbformat_minor": 0,
  "metadata": {
    "colab": {
      "provenance": []
    },
    "kernelspec": {
      "name": "python3",
      "display_name": "Python 3"
    },
    "language_info": {
      "name": "python"
    }
  },
  "cells": [
    {
      "cell_type": "code",
      "execution_count": 2,
      "metadata": {
        "id": "V6AX0QAJMf31",
        "colab": {
          "base_uri": "https://localhost:8080/"
        },
        "outputId": "f9c87864-f2c3-4f2f-eae8-62ca94081cd9"
      },
      "outputs": [
        {
          "output_type": "stream",
          "name": "stdout",
          "text": [
            "User: How do I write a Python function to calculate factorial?\n",
            "Bot: The answer is:\n",
            "\n",
            "var factorial = new Factorial(3, 5)\n",
            "\n",
            "In Python, it's a little trickier. You can write a function that returns a factorial, but it's actually a function that takes the original function and returns the result. So the function is a little more complicated.\n",
            "\n",
            "But it's not just about the original function. You can write a function that returns a factorial, but it's actually a function that takes the original function and returns the result. So the function is a little trickier. You can write a function that returns a factorial, but it's actually a function that takes the original function\n",
            "\n",
            "User: What is the capital of France?\n",
            "Bot: ⚠️ Sorry, I can only answer Python coding-related questions.\n",
            "\n",
            "User: Show me Python code for reading a file.\n",
            "Bot: >>> import sys >>> def read_file ( file ): ... ... ... ... ... ... ... ... ... ... ... ... ... ... ... ... ... ... ... ... ... ... ... ... ... ... ... ... ... ... ... ... ... ... ... ... ... ... ... ... ... ... ... ... ... ... ... ... ... ... ... ... ... ... ... ... ... ... ... ... ... ... ... ... ... ... ... ... ... ... ... ... ... ... ... ... ... ... ... ... ... ... ... ... ... ... ... ... ... ... ... ... ... ... ... ... ... ... ... ... ... ... ... ... ... ... ... ... ... ... ... ... ... ... ... ... ... ... ... ... ... ... ... ... ... ... ... ...\n",
            "\n",
            "User: Explain the concept of object-oriented programming in Python.\n",
            "Bot: How to use the example\n",
            "\n",
            "The first thing you will need to do is to create a class called object-oriented.py and initialize it with a name:\n",
            "\n",
            "class Object(object): def __init__(self): self.class = object def initialize(self): self.class.name = 'object' self.class.class.name = 'object-oriented' def __str__(self): return self.__str__()\n",
            "\n",
            "If you're familiar with the Python language, you'll see that the object-oriented programming language is a bit of a mess. In the beginning, you will get a warning about a lack of nesting,\n",
            "\n"
          ]
        }
      ],
      "source": [
        "from transformers import AutoModelForCausalLM, AutoTokenizer\n",
        "import torch\n",
        "\n",
        "\n",
        "# 1. Load Model and Tokenizer\n",
        "\n",
        "model_name = \"gpt2\"\n",
        "tokenizer = AutoTokenizer.from_pretrained(model_name)\n",
        "model = AutoModelForCausalLM.from_pretrained(model_name)\n",
        "\n",
        "# Ensure padding token is defined\n",
        "if tokenizer.pad_token is None:\n",
        "    tokenizer.pad_token = tokenizer.eos_token\n",
        "\n",
        "\n",
        "# 2. Filtering Mechanism\n",
        "\n",
        "def is_python_question(prompt: str) -> bool:\n",
        "    \"\"\"\n",
        "    Simple keyword-based filter to decide if a question\n",
        "    is related to Python coding.\n",
        "    \"\"\"\n",
        "    keywords = [\"python\", \"code\", \"function\", \"class\", \"import\",\n",
        "                \"def\", \"list\", \"dictionary\", \"tuple\", \"loop\",\n",
        "                \"exception\", \"module\", \"package\", \"syntax\", \"file\", \"lambda\"]\n",
        "\n",
        "    # Case-insensitive matching\n",
        "    return any(word.lower() in prompt.lower() for word in keywords)\n",
        "\n",
        "\n",
        "\n",
        "# 3. Generate Response\n",
        "\n",
        "def generate_response(prompt: str, max_length: int = 150):\n",
        "    \"\"\"\n",
        "    Generate response only if the input is Python-related.\n",
        "    Otherwise return predefined message.\n",
        "    \"\"\"\n",
        "    if not is_python_question(prompt):\n",
        "        return \"⚠️ Sorry, I can only answer Python coding-related questions.\"\n",
        "\n",
        "    inputs = tokenizer(prompt, return_tensors=\"pt\", padding=True)\n",
        "    outputs = model.generate(\n",
        "        **inputs,\n",
        "        max_length=max_length,\n",
        "        pad_token_id=tokenizer.eos_token_id,\n",
        "        do_sample=True,\n",
        "        top_p=0.9,\n",
        "        temperature=0.7\n",
        "    )\n",
        "    response = tokenizer.decode(outputs[0], skip_special_tokens=True)\n",
        "    return response[len(prompt):].strip()  # remove input prompt part\n",
        "\n",
        "# 4. Test Cases\n",
        "test_prompts = [\n",
        "    \"How do I write a Python function to calculate factorial?\",\n",
        "    \"What is the capital of France?\",\n",
        "    \"Show me Python code for reading a file.\",\n",
        "    \"Explain the concept of object-oriented programming in Python.\",\n",
        "]\n",
        "\n",
        "for prompt in test_prompts:\n",
        "    print(f\"User: {prompt}\")\n",
        "    print(f\"Bot: {generate_response(prompt)}\\n\")\n"
      ]
    }
  ]
}